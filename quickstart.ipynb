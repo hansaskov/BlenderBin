{
  "cells": [
    {
      "cell_type": "markdown",
      "metadata": {
        "colab_type": "text",
        "id": "view-in-github"
      },
      "source": [
        "<a href=\"https://colab.research.google.com/github/hansaskov/BlenderBin/blob/master/blenderbin_quickstart.ipynb\" target=\"_parent\"><img src=\"https://colab.research.google.com/assets/colab-badge.svg\" alt=\"Open In Colab\"/></a>"
      ]
    },
    {
      "cell_type": "markdown",
      "metadata": {
        "id": "50-gzEnWLrTd"
      },
      "source": [
        "# 1. Setup enviroment\n",
        "Let's first start by downloading the repository and installing the dependencies"
      ]
    },
    {
      "cell_type": "code",
      "execution_count": null,
      "metadata": {
        "id": "826KK03wI9o9"
      },
      "outputs": [],
      "source": [
        "# Get code for rendering\n",
        "! git clone https://github.com/hansaskov/BlenderBin\n",
        "%cd BlenderBin/\n",
        "! pip install -q -r requirements.txt\n"
      ]
    },
    {
      "cell_type": "markdown",
      "metadata": {
        "id": "F8QvMYxANzQ9"
      },
      "source": [
        "In order to run BlenderProc inside Google Colab, we first have to update the LD_PRELOAD environment variable"
      ]
    },
    {
      "cell_type": "code",
      "execution_count": null,
      "metadata": {
        "id": "wqQQJQZ9OYcn"
      },
      "outputs": [],
      "source": [
        "import os\n",
        "\n",
        "# updating the LD_PRELOAD env variable\n",
        "os.environ[\"LD_PRELOAD\"] = \"/usr/lib/x86_64-linux-gnu/libtcmalloc_minimal.so.4.3.0\""
      ]
    },
    {
      "cell_type": "markdown",
      "metadata": {
        "id": "e3BGD5GjSvA_"
      },
      "source": [
        "Install Blender and open3d into the blenderproc enviroment. Open3d is used to downsample the objects for simulations."
      ]
    },
    {
      "cell_type": "code",
      "execution_count": null,
      "metadata": {
        "id": "7XUtA36FNVui"
      },
      "outputs": [],
      "source": [
        "!blenderproc pip install open3d ipykernel dacite --blender-install-path ../"
      ]
    },
    {
      "cell_type": "markdown",
      "metadata": {
        "id": "LlpFw_lUTGDN"
      },
      "source": [
        "# Let's run the simulator!\n",
        "Blenderbin is split into two parts, one for simulating and one for rendering images of scenes. So let's begin! run the simulator below, Feel free to stop it any time you want to, the scenes will be saved under the  `resources/queue` folder\n"
      ]
    },
    {
      "cell_type": "code",
      "execution_count": null,
      "metadata": {
        "id": "5Flq3rbmPa--"
      },
      "outputs": [],
      "source": [
        "!blenderproc run bin_simulator.py --blender-install-path ../ --comp-amount-min 1 --comp-amount-max 15 --number-of-runs 5"
      ]
    },
    {
      "cell_type": "markdown",
      "metadata": {
        "id": "8oWDzpZF4WJZ"
      },
      "source": [
        "If you want to download the scenes, create a zip of the folder and download them"
      ]
    },
    {
      "cell_type": "code",
      "execution_count": null,
      "metadata": {
        "id": "IDvXO4IA3UD_"
      },
      "outputs": [],
      "source": [
        "!zip -r ../file.zip resources/simulations/"
      ]
    },
    {
      "cell_type": "markdown",
      "metadata": {
        "id": "wCFysEp7mYKp"
      },
      "source": [
        "# Let's run the Render!\n",
        "The Render script reads scenes from the `resources/queue` folder and renders 4 images in the bop format. The scenes are not deleted, but saved in the `resources/complete` folder when complete. The simulator and render can run in parralel. The render however requires a GPU. \n",
        "\n",
        "Start by running the program below! \n"
      ]
    },
    {
      "cell_type": "code",
      "execution_count": null,
      "metadata": {
        "id": "m-3oT86WnP5f"
      },
      "outputs": [],
      "source": [
        "!blenderproc run bin_render.py --blender-install-path ../ --no-random-bg"
      ]
    },
    {
      "cell_type": "markdown",
      "metadata": {
        "id": "lbWqB_yi66MR"
      },
      "source": [
        "Now that we have rendered some images, let's see how they look!"
      ]
    },
    {
      "cell_type": "code",
      "execution_count": null,
      "metadata": {
        "id": "JOJCJKjP69Zp"
      },
      "outputs": [],
      "source": [
        "import os\n",
        "import random\n",
        "from IPython.display import Image, display\n",
        "\n",
        "# Set the path to the folder containing the images\n",
        "path = \"data/coffee_cup/train_pbr/000000/rgb/\"\n",
        "\n",
        "# Get a list of all the image filenames in the folder\n",
        "image_files = [f for f in os.listdir(path) if f.endswith(\".jpg\") or f.endswith(\".png\")]\n",
        "\n",
        "# Select 4 random image filenames\n",
        "random_files = random.sample(image_files, 4)\n",
        "\n",
        "# Display the images\n",
        "for file in random_files:\n",
        "    display(Image(filename=os.path.join(path, file)))\n"
      ]
    }
  ],
  "metadata": {
    "accelerator": "GPU",
    "colab": {
      "authorship_tag": "ABX9TyMfpIpuI18sM+IaNrL1qz4I",
      "include_colab_link": true,
      "provenance": []
    },
    "gpuClass": "standard",
    "kernelspec": {
      "display_name": "Python 3",
      "name": "python3"
    },
    "language_info": {
      "name": "python"
    }
  },
  "nbformat": 4,
  "nbformat_minor": 0
}
