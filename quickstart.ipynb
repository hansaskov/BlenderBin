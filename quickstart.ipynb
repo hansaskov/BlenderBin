{
  "nbformat": 4,
  "nbformat_minor": 0,
  "metadata": {
    "colab": {
      "provenance": [],
      "authorship_tag": "ABX9TyMfpIpuI18sM+IaNrL1qz4I",
      "include_colab_link": true
    },
    "kernelspec": {
      "name": "python3",
      "display_name": "Python 3"
    },
    "language_info": {
      "name": "python"
    },
    "accelerator": "GPU",
    "gpuClass": "standard"
  },
  "cells": [
    {
      "cell_type": "markdown",
      "metadata": {
        "id": "view-in-github",
        "colab_type": "text"
      },
      "source": [
        "<a href=\"https://colab.research.google.com/github/hansaskov/BlenderBin/blob/master/blenderbin_quickstart.ipynb\" target=\"_parent\"><img src=\"https://colab.research.google.com/assets/colab-badge.svg\" alt=\"Open In Colab\"/></a>"
      ]
    },
    {
      "cell_type": "markdown",
      "source": [
        "# 1. Setup enviroment\n",
        "Let's first start by downloading the repository and installing the dependencies"
      ],
      "metadata": {
        "id": "50-gzEnWLrTd"
      }
    },
    {
      "cell_type": "code",
      "execution_count": null,
      "metadata": {
        "id": "826KK03wI9o9"
      },
      "outputs": [],
      "source": [
        "# Get code for rendering\n",
        "! git clone https://github.com/hansaskov/BlenderBin\n",
        "%cd BlenderBin/\n",
        "! pip install -q -r requirements.txt\n"
      ]
    },
    {
      "cell_type": "markdown",
      "source": [
        "In order to run BlenderProc inside Google Colab, we first have to update the LD_PRELOAD environment variable"
      ],
      "metadata": {
        "id": "F8QvMYxANzQ9"
      }
    },
    {
      "cell_type": "code",
      "source": [
        "import os\n",
        "\n",
        "# updating the LD_PRELOAD env variable\n",
        "os.environ[\"LD_PRELOAD\"] = \"/usr/lib/x86_64-linux-gnu/libtcmalloc_minimal.so.4.3.0\""
      ],
      "metadata": {
        "id": "wqQQJQZ9OYcn"
      },
      "execution_count": null,
      "outputs": []
    },
    {
      "cell_type": "markdown",
      "source": [
        "Install Blender and open3d into the blenderproc enviroment. Open3d is used to downsample the objects for simulations."
      ],
      "metadata": {
        "id": "e3BGD5GjSvA_"
      }
    },
    {
      "cell_type": "code",
      "source": [
        "!blenderproc pip install open3d ipykernel --blender-install-path ../"
      ],
      "metadata": {
        "id": "7XUtA36FNVui"
      },
      "execution_count": null,
      "outputs": []
    },
    {
      "cell_type": "markdown",
      "source": [
        "# Let's run the simulator!\n",
        "Blenderbin is split into two parts, one for simulating and one for rendering images of scenes. So let's begin! run the simulator below, Feel free to stop it any time you want to, the scenes will be saved under the  `resources/queue` folder\n"
      ],
      "metadata": {
        "id": "LlpFw_lUTGDN"
      }
    },
    {
      "cell_type": "code",
      "source": [
        "!blenderproc run bin_simulator.py --blender-install-path ../ --comp-amount-min 1 --comp-amount-max 15 --number-of-runs 5"
      ],
      "metadata": {
        "id": "5Flq3rbmPa--"
      },
      "execution_count": null,
      "outputs": []
    },
    {
      "cell_type": "markdown",
      "source": [
        "If you want to download the scenes, create a zip of the folder and download them"
      ],
      "metadata": {
        "id": "8oWDzpZF4WJZ"
      }
    },
    {
      "cell_type": "code",
      "source": [
        "!zip -r ../file.zip resources/simulations/"
      ],
      "metadata": {
        "id": "IDvXO4IA3UD_"
      },
      "execution_count": null,
      "outputs": []
    },
    {
      "cell_type": "markdown",
      "source": [
        "# Let's run the Render!\n",
        "The Render script reads scenes from the `resources/queue` folder and renders 4 images in the bop format. The scenes are not deleted, but saved in the `resources/complete` folder when complete. The simulator and render can run in parralel. The render however requires a GPU. \n",
        "\n",
        "Start by running the program below! \n"
      ],
      "metadata": {
        "id": "wCFysEp7mYKp"
      }
    },
    {
      "cell_type": "code",
      "source": [
        "!blenderproc run bin_render.py --blender-install-path ../ --no-random-bg"
      ],
      "metadata": {
        "id": "m-3oT86WnP5f"
      },
      "execution_count": null,
      "outputs": []
    },
    {
      "cell_type": "markdown",
      "source": [
        "Now that we have rendered some images, let's see how they look!"
      ],
      "metadata": {
        "id": "lbWqB_yi66MR"
      }
    },
    {
      "cell_type": "code",
      "source": [
        "import os\n",
        "import random\n",
        "from IPython.display import Image, display\n",
        "\n",
        "# Set the path to the folder containing the images\n",
        "path = \"data/coffee_cup/train_pbr/000000/rgb/\"\n",
        "\n",
        "# Get a list of all the image filenames in the folder\n",
        "image_files = [f for f in os.listdir(path) if f.endswith(\".jpg\") or f.endswith(\".png\")]\n",
        "\n",
        "# Select 4 random image filenames\n",
        "random_files = random.sample(image_files, 4)\n",
        "\n",
        "# Display the images\n",
        "for file in random_files:\n",
        "    display(Image(filename=os.path.join(path, file)))\n"
      ],
      "metadata": {
        "id": "JOJCJKjP69Zp"
      },
      "execution_count": null,
      "outputs": []
    }
  ]
}