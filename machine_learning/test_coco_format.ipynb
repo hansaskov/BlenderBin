{
 "cells": [
  {
   "cell_type": "code",
   "execution_count": null,
   "metadata": {},
   "outputs": [],
   "source": [
    "from mmdet.apis import init_detector, inference_detector\n",
    "from mmdet.utils import register_all_modules\n",
    "from mmdet.registry import VISUALIZERS\n",
    "import mmcv"
   ]
  },
  {
   "cell_type": "code",
   "execution_count": null,
   "metadata": {},
   "outputs": [],
   "source": [
    "# download the checkpoint demo\n",
    "work_dir = \"../work_dirs/convnext/\"\n",
    "config_file = work_dir + 'convnext.py'\n",
    "checkpoint_file = work_dir + 'epoch_2.pth'\n"
   ]
  },
  {
   "cell_type": "code",
   "execution_count": null,
   "metadata": {},
   "outputs": [],
   "source": [
    "#Register all modules in mmdet into the registries\n",
    "register_all_modules()\n",
    "# build the model from a config file and a checkpoint file\n",
    "model = init_detector(config_file, checkpoint_file, device='cuda:0')  # or device='cpu'"
   ]
  },
  {
   "cell_type": "code",
   "execution_count": null,
   "metadata": {},
   "outputs": [],
   "source": [
    "import os\n",
    "from typing import List\n",
    "\n",
    "def get_image_files(directory: str) -> List[str]:\n",
    "    image_files = []\n",
    "    if not os.path.isdir(directory):\n",
    "        return image_files\n",
    "\n",
    "    for filename in os.listdir(directory):\n",
    "        if filename.lower().endswith((\".png\", \".jpg\")):\n",
    "            image_files.append(os.path.join(directory, filename))\n",
    "\n",
    "    return image_files\n",
    "\n",
    "def get_png_files_from_directory(base_directory: str, directory_numbers: int) -> List[str]:\n",
    "\n",
    "    directory_path = os.path.join(base_directory, f\"00000{directory_numbers}/rgb\")\n",
    "    png_files = get_image_files(directory_path)\n",
    "    png_files.sort()\n",
    "\n",
    "    return png_files"
   ]
  },
  {
   "cell_type": "code",
   "execution_count": null,
   "metadata": {},
   "outputs": [],
   "source": [
    "import numpy as np\n",
    "import pycocotools.mask as mask_util\n",
    "def results_to_coco_segm(results, scene_id):\n",
    "    coco_segm = []\n",
    "    for img_id, result in enumerate(results):\n",
    "        instances = result.pred_instances\n",
    "        \n",
    "        for bbox, label, score, mask in zip(instances.bboxes, instances.labels, instances.scores, instances.masks):     \n",
    "                \n",
    "            bbox = bbox.tolist()\n",
    "            label = label.item() + 1 #\n",
    "            score = score.item()\n",
    "            mask = mask.cpu().numpy()\n",
    "                \n",
    "            segmentation = mask_util.encode(np.array(mask[:, :, np.newaxis], order='F', dtype='uint8'))[0]\n",
    "            \n",
    "            bbox = [\n",
    "                bbox[0],\n",
    "                bbox[1],\n",
    "                bbox[2] - bbox[0],\n",
    "                bbox[3] - bbox[1],\n",
    "            ]\n",
    "            annotation = {\n",
    "                \"scene_id\": scene_id,\n",
    "                \"image_id\": img_id,\n",
    "                \"category_id\": label,\n",
    "                \"score\": score,\n",
    "                \"bbox\": bbox,\n",
    "                \"time\": -1,\n",
    "                \"segmentation\": segmentation\n",
    "            }       \n",
    "            coco_segm.append(annotation) \n",
    "            \n",
    "    return coco_segm"
   ]
  },
  {
   "cell_type": "code",
   "execution_count": null,
   "metadata": {},
   "outputs": [],
   "source": [
    "base_directory = \"../data/ic_bin_test/\"\n",
    "\n",
    "final_segm = [] \n",
    "directory_numbers = [1, 2, 3]\n",
    "for dir_number in directory_numbers:\n",
    "    image_files = get_png_files_from_directory(base_directory, dir_number)\n",
    "    inference_results = inference_detector(model, image_files)\n",
    "    coco_segm = results_to_coco_segm(inference_results, dir_number )\n",
    "    final_segm.extend(coco_segm)"
   ]
  },
  {
   "cell_type": "code",
   "execution_count": null,
   "metadata": {},
   "outputs": [],
   "source": [
    "import json\n",
    "\n",
    "class CustomJSONEncoder(json.JSONEncoder):\n",
    "    def default(self, obj):\n",
    "        if isinstance(obj, bytes):\n",
    "            return obj.decode('utf-8')  # Decode byte string to UTF-8\n",
    "        return super().default(obj)\n",
    "\n",
    "output_file = \"/home/hans/Desktop/BOP/results/segm_icbin-test.json\"\n",
    "\n",
    "with open(output_file, \"w\") as json_file:\n",
    "    json.dump(final_segm, json_file, cls=CustomJSONEncoder)\n",
    "\n",
    "print(\"Data saved to\", output_file)"
   ]
  }
 ],
 "metadata": {
  "kernelspec": {
   "display_name": "mmdet",
   "language": "python",
   "name": "python3"
  },
  "language_info": {
   "codemirror_mode": {
    "name": "ipython",
    "version": 3
   },
   "file_extension": ".py",
   "mimetype": "text/x-python",
   "name": "python",
   "nbconvert_exporter": "python",
   "pygments_lexer": "ipython3",
   "version": "3.8.16"
  },
  "pycharm": {
   "stem_cell": {
    "cell_type": "raw",
    "metadata": {
     "collapsed": false
    },
    "source": []
   }
  },
  "vscode": {
   "interpreter": {
    "hash": "26395be4d8bd6f462fe6992ade267d864a329fc5ba918775a7fc2edf93f1463b"
   }
  }
 },
 "nbformat": 4,
 "nbformat_minor": 4
}
